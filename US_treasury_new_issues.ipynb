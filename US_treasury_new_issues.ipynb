{
 "cells": [
  {
   "cell_type": "code",
   "execution_count": 1,
   "metadata": {},
   "outputs": [],
   "source": [
    "import requests\n",
    "import pandas as pd\n",
    "\n",
    "#ignore all warnings\n",
    "import warnings\n",
    "warnings.filterwarnings('ignore')\n",
    "from datetime import timedelta, date, datetime\n",
    "from dateutil.relativedelta import relativedelta\n",
    "from dateutil import rrule\n",
    "import time\n",
    "import itertools\n",
    "import matplotlib.pyplot as plt"
   ]
  },
  {
   "cell_type": "markdown",
   "metadata": {},
   "source": [
    "#### Function returns list of end of month dates"
   ]
  },
  {
   "cell_type": "code",
   "execution_count": 2,
   "metadata": {},
   "outputs": [],
   "source": [
    "def daterange(d1, d2):\n",
    "    # count numbero f months between two dates, excluding the final date\n",
    "    monthcount = (d2.year - d1.year) * 12 + d2.month - d1.month\n",
    "\n",
    "    # convert start month to the first of next months\n",
    "    d1 = d1 + relativedelta(months=1)\n",
    "    d1 = datetime(d1.year, d1.month, 1)\n",
    "    months = list(rrule.rrule(rrule.MONTHLY, dtstart=d1, count=monthcount))\n",
    "    months = [i - timedelta(1) for i in months]\n",
    "    return months"
   ]
  },
  {
   "cell_type": "markdown",
   "metadata": {},
   "source": [
    "## Read fiscal textfile for the specified date\n",
    "#### If available, returns the, end of month and fiscal year to date total marketable and nonmarketable issues  (from Table III-A, Public Debt Transactions)."
   ]
  },
  {
   "cell_type": "code",
   "execution_count": 3,
   "metadata": {},
   "outputs": [],
   "source": [
    "def readtxt(date):\n",
    "    str_date = date.strftime('%y%m%d')\n",
    "    f = str_date + '00.txt'\n",
    "    url = 'https://fsapps.fiscal.treasury.gov/dts/files/' + f\n",
    "    # print(url)\n",
    "    r = requests.get(url, allow_redirects=True)\n",
    "    open('data/' + f, 'wb').write(r.content)\n",
    "\n",
    "    temp = open('data/'+f, 'r')\n",
    "\n",
    "    # First we find the start and end lines of the table of interest\n",
    "    start_table_line = 0\n",
    "    for line in temp:\n",
    "        if 'TABLE III-A  Public Debt Transactions' in line: #start of table is found\n",
    "            #reopen file\n",
    "            temp = open('data/' + f, 'r')\n",
    "            end_table_line = start_table_line + 7\n",
    "            for table_line in itertools.islice(temp, start_table_line+7, None):\n",
    "                if '__________' in table_line:\n",
    "                    break\n",
    "                end_table_line += 1\n",
    "            break\n",
    "        start_table_line += 1\n",
    "\n",
    "    #reopen the file\n",
    "    temp = open('data/' + f, 'r')\n",
    "    nonmarketable_ind = False # indicator for nonmarketable debt.\n",
    "    marketable = [0, 0]\n",
    "    nonmarketable = [0, 0]\n",
    "    total_issues = []\n",
    "    for line in itertools.islice(temp, start_table_line, end_table_line):\n",
    "        line = line.replace('\\n', '')\n",
    "        line = line.replace(',', '')\n",
    "        line = line.replace('$', '')\n",
    "\n",
    "        if 'Total Issues' in line:\n",
    "            digits = [int(s) for s in line.split() if s.isdigit()]\n",
    "            total_issues = digits[1:]\n",
    "            break\n",
    "        if 'Nonmarketable:' in line:\n",
    "            nonmarketable_ind = True\n",
    "            continue\n",
    "\n",
    "        digits = [int(s) for s in line.split() if s.isdigit()]\n",
    "        if len(digits) == 3:\n",
    "            if not nonmarketable_ind:\n",
    "                marketable = [sum(x) for x in zip(marketable, digits[1:])]\n",
    "                continue\n",
    "            nonmarketable = [sum(x) for x in zip(nonmarketable, digits[1:])]\n",
    "\n",
    "    return marketable, nonmarketable, total_issues"
   ]
  },
  {
   "cell_type": "markdown",
   "metadata": {},
   "source": [
    "# Initialisation and start"
   ]
  },
  {
   "cell_type": "code",
   "execution_count": 11,
   "metadata": {},
   "outputs": [],
   "source": [
    "start_date = datetime(2005, 6, 1)\n",
    "end_date = date.today()\n",
    "dates = daterange(start_date, end_date)\n",
    "\n",
    "\n",
    "# x = readtxt(start_date)\n",
    "marketable = pd.DataFrame(index = dates, columns=['MtD', 'YtD'])\n",
    "nonmarketable = pd.DataFrame(index = dates, columns=['MtD', 'YtD'])\n",
    "total = pd.DataFrame(index = dates, columns=['MtD', 'YtD'])\n",
    "for single_date in dates:\n",
    "    count = 0\n",
    "    start = time.time()\n",
    "    datefinder = True\n",
    "    \n",
    "    while datefinder:\n",
    "        #print(single_date)\n",
    "        try:\n",
    "            output = readtxt(single_date)\n",
    "            marketable.loc[single_date] = output[0]\n",
    "            nonmarketable.loc[single_date] = output[1]\n",
    "            total.loc[single_date] = output[2]\n",
    "            datefinder = False\n",
    "        # If an error occurs, try one date earlier\n",
    "        except:\n",
    "            #print('error at ' + str(single_date))\n",
    "            single_date = single_date - timedelta(days=1)\n",
    "            count += 1\n",
    "            # try maximum of 6 dates, otherwise just go to the next month (this should only happen is there are no txtfiles available)\n",
    "            if count > 6:\n",
    "                break\n",
    "    #print(single_date.strftime('%B %Y') + ' completed, '+ str(round(time.time() - start, 2))+'s')\n",
    "\n",
    "\n",
    "marketable = marketable.sort_index().dropna().astype(float)\n",
    "nonmarketable = nonmarketable.sort_index().dropna().astype(float)\n",
    "total = total.sort_index().dropna().astype(float)\n"
   ]
  },
  {
   "cell_type": "markdown",
   "metadata": {},
   "source": [
    "# Marketable Issues\n",
    "### Consists among others of US Treasury bills, notes, bonds, TIPS"
   ]
  },
  {
   "cell_type": "code",
   "execution_count": 27,
   "metadata": {
    "scrolled": false
   },
   "outputs": [
    {
     "data": {
      "image/png": "[encoded data removed]",
      "text/plain": [
       "<Figure size 432x288 with 1 Axes>"
      ]
     },
     "metadata": {
      "needs_background": "light"
     },
     "output_type": "display_data"
    }
   ],
   "source": [
    "marketable2 = marketable['2017-01-01':]\n",
    "\n",
    "\n",
    "fig, ax = plt.subplots()\n",
    "# marketable issues plot\n",
    "ax.bar(marketable2.index, marketable2['MtD'] / 1000 / 1000 , width=20)\n",
    "ax.xaxis_date()\n",
    "plt.xlim(marketable2.index[0] - relativedelta(months=1), marketable2.index[-1]+ relativedelta(months=1))\n",
    "plt.ylabel('New issues (T$)')\n",
    "plt.title('Marketable issues')\n",
    "plt.xticks(rotation=40)\n",
    "plt.grid()\n",
    "\n",
    "\n",
    "\n",
    "plt.savefig(r'marketable.png', bbox_inches='tight', dpi = 400)\n",
    "plt.show()"
   ]
  },
  {
   "cell_type": "markdown",
   "metadata": {},
   "source": [
    "# Nonmarketable Issues\n",
    "### Consists mostly of government account series (intergovernmental debt)"
   ]
  },
  {
   "cell_type": "code",
   "execution_count": 13,
   "metadata": {},
   "outputs": [
    {
     "data": {
      "image/png": "[encoded data removed]",
      "text/plain": [
       "<Figure size 432x288 with 1 Axes>"
      ]
     },
     "metadata": {
      "needs_background": "light"
     },
     "output_type": "display_data"
    }
   ],
   "source": [
    "fig, ax = plt.subplots()\n",
    "#non marketable issues plot\n",
    "ax.bar(nonmarketable.index, nonmarketable['MtD'] / 1000 / 1000 , width=20)\n",
    "ax.xaxis_date()\n",
    "plt.xlim(nonmarketable.index[0], nonmarketable.index[-1])\n",
    "plt.ylabel('New issues (T$)')\n",
    "plt.title('Nonmarketable Issues')\n",
    "plt.show()"
   ]
  },
  {
   "cell_type": "markdown",
   "metadata": {},
   "source": [
    "# Total Issues"
   ]
  },
  {
   "cell_type": "code",
   "execution_count": 14,
   "metadata": {},
   "outputs": [
    {
     "data": {
      "image/png": "[encoded data removed]",
      "text/plain": [
       "<Figure size 432x288 with 1 Axes>"
      ]
     },
     "metadata": {
      "needs_background": "light"
     },
     "output_type": "display_data"
    }
   ],
   "source": [
    "fig, ax = plt.subplots()\n",
    "#non marketable issues plot\n",
    "ax.bar(total.index, total['MtD'] / 1000 / 1000 , width=20)\n",
    "ax.xaxis_date()\n",
    "plt.xlim(total.index[0], total.index[-1])\n",
    "plt.ylabel('New issues (T$)')\n",
    "plt.title('Total Issues')\n",
    "plt.show()"
   ]
  }
 ],
 "metadata": {
  "kernelspec": {
   "display_name": "Python 3",
   "language": "python",
   "name": "python3"
  },
  "language_info": {
   "codemirror_mode": {
    "name": "ipython",
    "version": 3
   },
   "file_extension": ".py",
   "mimetype": "text/x-python",
   "name": "python",
   "nbconvert_exporter": "python",
   "pygments_lexer": "ipython3",
   "version": "3.7.1"
  }
 },
 "nbformat": 4,
 "nbformat_minor": 2
}
